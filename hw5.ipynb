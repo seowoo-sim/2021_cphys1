{
 "cells": [
  {
   "cell_type": "code",
   "execution_count": 109,
   "metadata": {},
   "outputs": [],
   "source": [
    "import numpy as np\n",
    "import matplotlib.pyplot as plt"
   ]
  },
  {
   "cell_type": "code",
   "execution_count": 232,
   "metadata": {},
   "outputs": [],
   "source": [
    "def f_vibration():\n",
    "    m=1\n",
    "    k=1\n",
    "    C=1\n",
    "    N=40\n",
    "    d=2*k-m*w**2\n",
    "    w=frequancy\n",
    "    M=np.zeros((40, 40))\n",
    "    b=np.zeros((40, 1))\n",
    "    b[0,0]=C\n",
    "    for i in range(40) : \n",
    "        M[0,0]=d-k\n",
    "        M[i,i]=d\n",
    "        M[i,i+1]=-k\n",
    "        M[i+1,i]=-k\n",
    "        M[39,39]=d-k\n",
    "    a=np.dot(np.linalg.inv(M),b)\n",
    "    return a"
   ]
  },
  {
   "cell_type": "code",
   "execution_count": 233,
   "metadata": {},
   "outputs": [
    {
     "data": {
      "image/png": "[encoded data removed]",
      "text/plain": [
       "<Figure size 432x288 with 1 Axes>"
      ]
     },
     "metadata": {
      "needs_background": "light"
     },
     "output_type": "display_data"
    }
   ],
   "source": [
    "x=np.arange(1,40,1)\n",
    "plt.plot()\n",
    "plt.xlabel('i')\n",
    "plt.ylabel('$a_i$')\n",
    "plt.show()"
   ]
  },
  {
   "cell_type": "code",
   "execution_count": 234,
   "metadata": {},
   "outputs": [
    {
     "data": {
      "image/png": "[encoded data removed]",
      "text/plain": [
       "<Figure size 432x288 with 1 Axes>"
      ]
     },
     "metadata": {
      "needs_background": "light"
     },
     "output_type": "display_data"
    }
   ],
   "source": [
    "x=np.arange(1,40,1)\n",
    "plt.plot()\n",
    "plt.xlabel('i')\n",
    "plt.ylabel('$a_i$')\n",
    "plt.show()"
   ]
  },
  {
   "cell_type": "code",
   "execution_count": 235,
   "metadata": {},
   "outputs": [],
   "source": [
    "def f_vibration():\n",
    "    m=1\n",
    "    k=1\n",
    "    C=1\n",
    "    N=40\n",
    "    d=2*k-m*w**2\n",
    "    w=frequancy\n",
    "    M=np.zeros((40, 40))\n",
    "    b=np.zeros((40, 1))\n",
    "    b[0,0]=C\n",
    "    b[39,0]=C\n",
    "    for i in range(39) : \n",
    "        M[0,0]=d-k\n",
    "        M[i,i]=d\n",
    "        M[i,i+1]=-k\n",
    "        M[i+1,i]=-k\n",
    "        M[39,39]=d-k\n",
    "    a=np.dot(np.linalg.inv(M),b)\n",
    "    return a"
   ]
  },
  {
   "cell_type": "code",
   "execution_count": 236,
   "metadata": {},
   "outputs": [
    {
     "data": {
      "image/png": "[encoded data removed]",
      "text/plain": [
       "<Figure size 432x288 with 1 Axes>"
      ]
     },
     "metadata": {
      "needs_background": "light"
     },
     "output_type": "display_data"
    }
   ],
   "source": [
    "x=np.arange(1,40,1)\n",
    "plt.plot()\n",
    "plt.xlabel('i')\n",
    "plt.ylabel('$a_i$')\n",
    "plt.show()"
   ]
  },
  {
   "cell_type": "code",
   "execution_count": 237,
   "metadata": {},
   "outputs": [
    {
     "data": {
      "image/png": "[encoded data removed]",
      "text/plain": [
       "<Figure size 432x288 with 1 Axes>"
      ]
     },
     "metadata": {
      "needs_background": "light"
     },
     "output_type": "display_data"
    }
   ],
   "source": [
    "x=np.arange(1,40,1)\n",
    "plt.plot()\n",
    "plt.xlabel('i')\n",
    "plt.ylabel('$a_i$')\n",
    "plt.show()"
   ]
  }
 ],
 "metadata": {
  "kernelspec": {
   "display_name": "Python 3",
   "language": "python",
   "name": "python3"
  },
  "language_info": {
   "codemirror_mode": {
    "name": "ipython",
    "version": 3
   },
   "file_extension": ".py",
   "mimetype": "text/x-python",
   "name": "python",
   "nbconvert_exporter": "python",
   "pygments_lexer": "ipython3",
   "version": "3.8.5"
  }
 },
 "nbformat": 4,
 "nbformat_minor": 4
}
