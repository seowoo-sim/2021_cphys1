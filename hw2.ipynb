{
 "cells": [
  {
   "cell_type": "code",
   "execution_count": 1,
   "metadata": {},
   "outputs": [],
   "source": [
    "import numpy as np"
   ]
  },
  {
   "cell_type": "code",
   "execution_count": 4,
   "metadata": {},
   "outputs": [],
   "source": [
    "def Logistic(n,r,f0):\n",
    "    if n==0:\n",
    "        return f0\n",
    "    else:\n",
    "        f=f0\n",
    "        for i in range(n):\n",
    "            f=r*f*(1-f)\n",
    "        return f"
   ]
  },
  {
   "cell_type": "code",
   "execution_count": 28,
   "metadata": {},
   "outputs": [
    {
     "name": "stdout",
     "output_type": "stream",
     "text": [
      "[0.5, 1.125, -0.6328125, -4.649688720703125, -118.21182264061645, -63415.11075595729, -18096928592.854885, -1.4737447103084353e+21, -9.773655620229423e+42, -4.298595488227898e+86, -8.315065427135959e+173, -inf, -inf, -inf, -inf, -inf, -inf, -inf, -inf, -inf, -inf]\n"
     ]
    }
   ],
   "source": [
    "result1=[]\n",
    "for n in range(21):\n",
    "    result1.append(logistic(n,4.5,0.5))\n",
    "print(result1)"
   ]
  },
  {
   "cell_type": "code",
   "execution_count": 10,
   "metadata": {},
   "outputs": [
    {
     "name": "stdout",
     "output_type": "stream",
     "text": [
      "[0.51, 1.12455, -0.6302821612499996, -4.623919938179865, -117.0204998979472, -62148.68053318534, -17381342883.134087, -1.359499861973058e+21, -8.317079436171436e+42, -3.11282146564136e+86, -4.360345864630932e+173, -inf, -inf, -inf, -inf, -inf, -inf, -inf, -inf, -inf, -inf]\n"
     ]
    }
   ],
   "source": [
    "result2=[]\n",
    "for n in range(21):\n",
    "    result2.append(logistic(n,4.5,0.51))\n",
    "print(result2)"
   ]
  },
  {
   "cell_type": "code",
   "execution_count": 11,
   "metadata": {},
   "outputs": [
    {
     "name": "stdout",
     "output_type": "stream",
     "text": [
      "[0.501, 1.1249955, -0.6327871875911253, -4.649430655667751, -118.19986234888862, -63402.33294740298, -18089636514.7783, -1.4725572716470052e+21, -9.757912132262123e+42, -4.2847582131426745e+86, -8.261618825292122e+173, -inf, -inf, -inf, -inf, -inf, -inf, -inf, -inf, -inf, -inf]\n"
     ]
    }
   ],
   "source": [
    "result3=[]\n",
    "for n in range(21):\n",
    "    result3.append(logistic(n,4.5,0.501))\n",
    "print(result3)"
   ]
  },
  {
   "cell_type": "code",
   "execution_count": 10,
   "metadata": {},
   "outputs": [],
   "source": [
    "def Fibonacci(n):\n",
    "    if n==1 or n==2:\n",
    "        return 1\n",
    "    else:\n",
    "        f_1=1\n",
    "        f_2=1\n",
    "        for i in range(n-2):\n",
    "            new=f_1+f_2\n",
    "            f_2=f_1\n",
    "            f_1=X\n",
    "        return X"
   ]
  }
 ],
 "metadata": {
  "kernelspec": {
   "display_name": "Python 3",
   "language": "python",
   "name": "python3"
  },
  "language_info": {
   "codemirror_mode": {
    "name": "ipython",
    "version": 3
   },
   "file_extension": ".py",
   "mimetype": "text/x-python",
   "name": "python",
   "nbconvert_exporter": "python",
   "pygments_lexer": "ipython3",
   "version": "3.8.5"
  }
 },
 "nbformat": 4,
 "nbformat_minor": 4
}
